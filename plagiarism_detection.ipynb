{
  "nbformat": 4,
  "nbformat_minor": 0,
  "metadata": {
    "colab": {
      "provenance": [],
      "authorship_tag": "ABX9TyPNY37unHsvR+0kduBnKWZj",
      "include_colab_link": true
    },
    "kernelspec": {
      "name": "python3",
      "display_name": "Python 3"
    },
    "language_info": {
      "name": "python"
    }
  },
  "cells": [
    {
      "cell_type": "markdown",
      "metadata": {
        "id": "view-in-github",
        "colab_type": "text"
      },
      "source": [
        "<a href=\"https://colab.research.google.com/github/harshii035/dreamportfolio/blob/main/plagiarism_detection.ipynb\" target=\"_parent\"><img src=\"https://colab.research.google.com/assets/colab-badge.svg\" alt=\"Open In Colab\"/></a>"
      ]
    },
    {
      "cell_type": "code",
      "execution_count": null,
      "metadata": {
        "colab": {
          "base_uri": "https://localhost:8080/"
        },
        "id": "kyXlpf2y3bwf",
        "outputId": "2c6d1842-7c46-47b8-924e-bcca300f7673"
      },
      "outputs": [
        {
          "output_type": "stream",
          "name": "stdout",
          "text": [
            "Requirement already satisfied: nltk in /usr/local/lib/python3.10/dist-packages (3.8.1)\n",
            "Requirement already satisfied: click in /usr/local/lib/python3.10/dist-packages (from nltk) (8.1.7)\n",
            "Requirement already satisfied: joblib in /usr/local/lib/python3.10/dist-packages (from nltk) (1.4.2)\n",
            "Requirement already satisfied: regex>=2021.8.3 in /usr/local/lib/python3.10/dist-packages (from nltk) (2024.5.15)\n",
            "Requirement already satisfied: tqdm in /usr/local/lib/python3.10/dist-packages (from nltk) (4.66.4)\n"
          ]
        }
      ],
      "source": [
        "!pip install -U nltk"
      ]
    },
    {
      "cell_type": "code",
      "source": [
        "import re\n",
        "from nltk.util import ngrams, pad_sequence, everygrams\n",
        "from nltk.tokenize import word_tokenize\n",
        "from nltk.lm import MLE, WittenBellInterpolated\n",
        "import numpy as np\n",
        "import plotly.graph_objects as go\n",
        "from scipy.ndimage import gaussian_filter"
      ],
      "metadata": {
        "id": "DbZOXDq23rvL"
      },
      "execution_count": null,
      "outputs": []
    },
    {
      "cell_type": "code",
      "source": [
        "f1 = open('train.txt', 'w+')\n",
        "f2 = open('test.txt', 'w+')\n",
        "f1.write(\"\"\"\n",
        "“Wings of Fire: An Autobiography of Abdul Kalam”  is written by Dr. APJ Abdul Kalam and Arun Tiwari.\n",
        "This book is an autobiography of Dr. APJ Abdul Kalam, former president of India.\n",
        "This story sheds light on the journey of a young boy from Rameswaram to become a renowned scientist.\n",
        "It reflects how simple living, dedication, strong will and hard work led to success.\n",
        "It also shows how cultural unity impacts the lives of individuals.\n",
        "The story begins with Kalam as a boy  around 1930 in the village of Rameswaram where he lived with his parents and four brothers and one sister.\n",
        "In this book, the author tells us how the role of family, relatives, friends, and society contribute to an individual’s life.\n",
        "Kalam describes his village where everyone lives in harmony. Religious discrimination was unknown at that time.\n",
        "A passage that shows the closeness  they had: “The high priest of Rameswaram temple, Pakshi Lakshmana Sastry, was a very close friend of my father’s.\n",
        "One of the most vivid memories of my early childhood is of the two men, each in his traditional attire, discussing spiritual matters.”\n",
        "When he was very young, Kalam wanted to join the Indian Airforce but he was not able to clear the interview.\n",
        "Far from being demotivated, he focused more on studies, started his career in Aeronautical Development Establishment (ADE), and was involved in the design of a hovercraft.\n",
        "He went to NASA on a training program. He moved to Indian Space Research and there he met Vikram Sarabhai. He also met many geniuses who inspired him.\n",
        "The book also describes leadership and teamwork, while making the projects. It shows how a  man becomes a leader whenever there is a successful project or a failed one.\n",
        "The book reveals extensive and detailed project work by Dr. APJ Kalam, which I find distracting from the story of his life.\n",
        "Some readers may find this detailed descriptions boring and unappealing. It highlights the successful execution of “Agni” and other projects.\n",
        "The book narrates India’s technological achievements at a time, few nations can boast of.\n",
        "It speaks about some brilliant minds who worked behind Indian space research such as Vikram Sarabhai and Dr. Brahm Prakash and their contribution towards ISRO.\n",
        "As a reader, this book initially is very interesting particularly the portions from his younger days to a college student like how his family encouraged him.\n",
        "Later, the writing becomes a bit monotonous as it gives minute illustrations of the projects.\n",
        "At the end, he offers advice to the younger generation not to get demotivated and lead a positive life.\n",
        "This book demonstrates how Dr. APJ Abdul Kalam’s simple living and positive thinking became an inspiration for the Indian youth.\n",
        "\"\"\")\n",
        "\n",
        "f2.write(\"\"\"\n",
        "\"Wings of fire an autobiography of abdul kalam is a book by dr.APJ Abdul Kalam and Arun Tiwari.APJ Abdul Kalam, former president of India.\n",
        "This story sheds light on the journey of a boy from rameswaram to become a famous scientist.It reflects how simple living, dedication, strong will and hard work led to success.\n",
        "It also shows how cultural unity influences the lives of individual individuals.\n",
        "The story begins with kalam as a boy in the village of rameswaram around 1930 where he lived with his parents four brothers and one sister.\n",
        "The author tells us in this book how the role of family friends and society contribute to an individuals life.Kalam describes his village where everybody lives in harmony.\n",
        "Discrimination was never known at that time and was unknown today.\n",
        "A passage that shows the closeness they had the priest of the temple of rameswaram pakshi lakshmana sastry was a very close friend of.\n",
        "One of the most vivid memories of my early childhood is the conversation between two males each wearing his traditional clothes about religious matters.\n",
        "”\\n\\nWhen he was very young, Kalam wanted to join the Indian Airforce but he was not able to clear the interview.\n",
        "Far from being demotivated, he focused more on studies, started his career in Aeronautical Development Establishment (ADE), and was involved in the design of a hovercraft.\n",
        "He went to nasa on a training programme.He moved to indian space research and met vikram sarabhai there.\n",
        "He also met many great minds who inspired him.The book also describes leadership and teamwork, while making the projects.\n",
        "It shows how a man becomes a leader whenever there is a failed or a successful project.\n",
        "APJ Kalam, which I find distracting from the story of his life.\n",
        "Some readers might find these detailed descriptions boring and unappealing.\n",
        "This publication highlights the successful execution of agni and other projects.\n",
        "The book tells the story of india's technological achievements at a time when few nations can boast of its technological breakthroughs.\n",
        "It talks about some brilliant minds who worked behind the indian space research such as vikram sarabhai and vikram.\n",
        "Brahm Prakash and their contribution towards ISRO.As a reader,\n",
        "this book initially is very interesting particularly the portions from his younger days to a college student like how his family encouraged him.\n",
        "Later the writing becomes a little monotonous as he presents minute illustrations of the projects.\n",
        "He teaches the younger generation not to get demotivated and to live a positive life.\n",
        "This book demonstrates how dr.Apj abdul kalam's simple lifestyle and positive thinking became an inspiration to the indian youth\"\n",
        "\"\"\")\n",
        "\n",
        "f1.close()\n",
        "f2.close()"
      ],
      "metadata": {
        "id": "VSgmq2Vz3zBv"
      },
      "execution_count": null,
      "outputs": []
    },
    {
      "cell_type": "code",
      "source": [
        "# Training data file\n",
        "train_data_file = \"train.txt\"\n",
        "\n",
        "# read training data\n",
        "with open(train_data_file) as f:\n",
        "    train_text = f.read().lower()\n",
        "\n",
        "# apply preprocessing (remove text inside square and curly brackets and rem punc)\n",
        "train_text = re.sub(r\"\\[.*\\]|\\{.*\\}\", \"\", train_text)\n",
        "train_text = re.sub(r'[^\\w\\s]', \"\", train_text)"
      ],
      "metadata": {
        "id": "2WAmvS1s4Xge"
      },
      "execution_count": null,
      "outputs": []
    },
    {
      "cell_type": "code",
      "source": [
        "import nltk\n",
        "nltk.download('punkt')"
      ],
      "metadata": {
        "colab": {
          "base_uri": "https://localhost:8080/"
        },
        "id": "foDFcOVGE4gW",
        "outputId": "9d29da4f-a91a-41b5-aae2-d3af51c0924e"
      },
      "execution_count": null,
      "outputs": [
        {
          "output_type": "stream",
          "name": "stderr",
          "text": [
            "[nltk_data] Downloading package punkt to /root/nltk_data...\n",
            "[nltk_data]   Unzipping tokenizers/punkt.zip.\n"
          ]
        },
        {
          "output_type": "execute_result",
          "data": {
            "text/plain": [
              "True"
            ]
          },
          "metadata": {},
          "execution_count": 6
        }
      ]
    },
    {
      "cell_type": "code",
      "source": [
        "# set ngram number\n",
        "n = 4\n",
        "\n",
        "# pad the text and tokenize\n",
        "training_data = list(pad_sequence(word_tokenize(train_text), n, pad_left=True, left_pad_symbol=\"<s>\"))\n",
        "\n",
        "\n",
        "\n",
        "# generate ngrams\n",
        "ngrams = list(everygrams(training_data, max_len=n))\n",
        "print(\"Number of ngrams:\", len(ngrams))\n",
        "\n",
        "# build ngram language models\n",
        "model = WittenBellInterpolated(n)\n",
        "model.fit([ngrams], vocabulary_text=training_data)\n",
        "print(model.vocab)\n"
      ],
      "metadata": {
        "colab": {
          "base_uri": "https://localhost:8080/"
        },
        "id": "KtnOnMJc4dY4",
        "outputId": "5455a50d-ee8d-42ef-cedc-d2084838cf3f"
      },
      "execution_count": null,
      "outputs": [
        {
          "output_type": "stream",
          "name": "stdout",
          "text": [
            "Number of ngrams: 1814\n",
            "<Vocabulary with cutoff=1 unk_label='<UNK>' and 244 items>\n"
          ]
        }
      ]
    },
    {
      "cell_type": "code",
      "source": [
        "# testing data file\n",
        "test_data_file = \"test.txt\"\n",
        "\n",
        "# Read testing data\n",
        "with open(test_data_file) as f:\n",
        "    test_text = f.read().lower()\n",
        "test_text = re.sub(r'[^\\w\\s]', \"\", test_text)\n",
        "\n",
        "# Tokenize and pad the text\n",
        "testing_data = list(pad_sequence(word_tokenize(test_text), n,\n",
        "                                 pad_left=True,\n",
        "                                 left_pad_symbol=\"<s>\"))\n",
        "print(\"Length of test data:\", len(testing_data))"
      ],
      "metadata": {
        "colab": {
          "base_uri": "https://localhost:8080/"
        },
        "id": "vPSqZEAOFdsY",
        "outputId": "fa068e83-5385-4459-8d96-a43dfba6a12d"
      },
      "execution_count": null,
      "outputs": [
        {
          "output_type": "stream",
          "name": "stdout",
          "text": [
            "Length of test data: 437\n"
          ]
        }
      ]
    },
    {
      "cell_type": "code",
      "source": [
        "# assign scores\n",
        "scores = []\n",
        "for i, item in enumerate(testing_data[n-1:]):\n",
        "    s = model.score(item, testing_data[i:i+n-1])\n",
        "\n",
        "    scores.append(s)\n",
        "\n",
        "scores_np = np.array(scores)\n",
        "\n",
        "# set width and height\n",
        "width = 8\n",
        "height = np.ceil(len(testing_data)/width).astype(\"int32\")\n",
        "print(\"Width, Height:\", width, \",\", height)\n",
        "\n",
        "# copy scores to rectangular blank array\n",
        "a = np.zeros(width*height)\n",
        "a[:len(scores_np)] = scores_np\n",
        "diff = len(a) - len(scores_np)\n",
        "\n",
        "# apply gaussian smoothing for aesthetics\n",
        "a = gaussian_filter(a, sigma=1.0)\n",
        "\n",
        "# reshape to fit rectangle\n",
        "a = a.reshape(-1, width)\n",
        "\n",
        "# format labels\n",
        "labels = [\" \".join(testing_data[i:i+width]) for i in range(n-1, len(testing_data), width)]\n",
        "labels_individual = [x.split() for x in labels]\n",
        "labels_individual[-1] += [\"\"]*diff\n",
        "labels = [f\"{x:60.60}\" for x in labels]"
      ],
      "metadata": {
        "colab": {
          "base_uri": "https://localhost:8080/"
        },
        "id": "cDastQVAE-S4",
        "outputId": "4ccbc5a9-d0a4-49aa-f323-bc75f928234c"
      },
      "execution_count": null,
      "outputs": [
        {
          "output_type": "stream",
          "name": "stdout",
          "text": [
            "Width, Height: 8 , 55\n"
          ]
        }
      ]
    },
    {
      "cell_type": "code",
      "source": [
        "# create heatmap\n",
        "fig = go.Figure(data=go.Heatmap(\n",
        "                z=a, x0=0, dx=1,\n",
        "                y=labels, zmin=0, zmax=1,\n",
        "                customdata=labels_individual,\n",
        "                hovertemplate='%{customdata} <br><b>Score:%{z:.3f}<extra></extra>',\n",
        "                colorscale=\"burg\"))\n",
        "fig.update_layout({\"height\":height*28, \"width\":1000, \"font\":{\"family\":\"Courier New\"}})\n",
        "fig['layout']['yaxis']['autorange'] = \"reversed\"\n",
        "fig.show()\n"
      ],
      "metadata": {
        "colab": {
          "base_uri": "https://localhost:8080/",
          "height": 1000
        },
        "id": "rR-BePAZFl6a",
        "outputId": "14229db3-4777-46fa-b4ce-aaa8932098e8"
      },
      "execution_count": null,
      "outputs": [
        {
          "output_type": "display_data",
          "data": {
            "text/html": [
              "<html>\n",
              "<head><meta charset=\"utf-8\" /></head>\n",
              "<body>\n",
              "    <div>            <script src=\"https://cdnjs.cloudflare.com/ajax/libs/mathjax/2.7.5/MathJax.js?config=TeX-AMS-MML_SVG\"></script><script type=\"text/javascript\">if (window.MathJax && window.MathJax.Hub && window.MathJax.Hub.Config) {window.MathJax.Hub.Config({SVG: {font: \"STIX-Web\"}});}</script>                <script type=\"text/javascript\">window.PlotlyConfig = {MathJaxConfig: 'local'};</script>\n",
              "        <script charset=\"utf-8\" src=\"https://cdn.plot.ly/plotly-2.24.1.min.js\"></script>                <div id=\"4c90eb4e-aae6-4963-b387-be9ade94b284\" class=\"plotly-graph-div\" style=\"height:1540px; width:1000px;\"></div>            <script type=\"text/javascript\">                                    window.PLOTLYENV=window.PLOTLYENV || {};                                    if (document.getElementById(\"4c90eb4e-aae6-4963-b387-be9ade94b284\")) {                    Plotly.newPlot(                        \"4c90eb4e-aae6-4963-b387-be9ade94b284\",                        [{\"colorscale\":[[0.0,\"rgb(255, 198, 196)\"],[0.16666666666666666,\"rgb(244, 163, 168)\"],[0.3333333333333333,\"rgb(227, 129, 145)\"],[0.5,\"rgb(204, 96, 125)\"],[0.6666666666666666,\"rgb(173, 70, 108)\"],[0.8333333333333334,\"rgb(139, 48, 88)\"],[1.0,\"rgb(103, 32, 68)\"]],\"customdata\":[[\"wings\",\"of\",\"fire\",\"an\",\"autobiography\",\"of\",\"abdul\",\"kalam\"],[\"is\",\"a\",\"book\",\"by\",\"drapj\",\"abdul\",\"kalam\",\"and\"],[\"arun\",\"tiwariapj\",\"abdul\",\"kalam\",\"former\",\"president\",\"of\",\"india\"],[\"this\",\"story\",\"sheds\",\"light\",\"on\",\"the\",\"journey\",\"of\"],[\"a\",\"boy\",\"from\",\"rameswaram\",\"to\",\"become\",\"a\",\"famous\"],[\"scientistit\",\"reflects\",\"how\",\"simple\",\"living\",\"dedication\",\"strong\",\"will\"],[\"and\",\"hard\",\"work\",\"led\",\"to\",\"success\",\"it\",\"also\"],[\"shows\",\"how\",\"cultural\",\"unity\",\"influences\",\"the\",\"lives\",\"of\"],[\"individual\",\"individuals\",\"the\",\"story\",\"begins\",\"with\",\"kalam\",\"as\"],[\"a\",\"boy\",\"in\",\"the\",\"village\",\"of\",\"rameswaram\",\"around\"],[\"1930\",\"where\",\"he\",\"lived\",\"with\",\"his\",\"parents\",\"four\"],[\"brothers\",\"and\",\"one\",\"sister\",\"the\",\"author\",\"tells\",\"us\"],[\"in\",\"this\",\"book\",\"how\",\"the\",\"role\",\"of\",\"family\"],[\"friends\",\"and\",\"society\",\"contribute\",\"to\",\"an\",\"individuals\",\"lifekalam\"],[\"describes\",\"his\",\"village\",\"where\",\"everybody\",\"lives\",\"in\",\"harmony\"],[\"discrimination\",\"was\",\"never\",\"known\",\"at\",\"that\",\"time\",\"and\"],[\"was\",\"unknown\",\"today\",\"a\",\"passage\",\"that\",\"shows\",\"the\"],[\"closeness\",\"they\",\"had\",\"the\",\"priest\",\"of\",\"the\",\"temple\"],[\"of\",\"rameswaram\",\"pakshi\",\"lakshmana\",\"sastry\",\"was\",\"a\",\"very\"],[\"close\",\"friend\",\"of\",\"one\",\"of\",\"the\",\"most\",\"vivid\"],[\"memories\",\"of\",\"my\",\"early\",\"childhood\",\"is\",\"the\",\"conversation\"],[\"between\",\"two\",\"males\",\"each\",\"wearing\",\"his\",\"traditional\",\"clothes\"],[\"about\",\"religious\",\"matters\",\"when\",\"he\",\"was\",\"very\",\"young\"],[\"kalam\",\"wanted\",\"to\",\"join\",\"the\",\"indian\",\"airforce\",\"but\"],[\"he\",\"was\",\"not\",\"able\",\"to\",\"clear\",\"the\",\"interview\"],[\"far\",\"from\",\"being\",\"demotivated\",\"he\",\"focused\",\"more\",\"on\"],[\"studies\",\"started\",\"his\",\"career\",\"in\",\"aeronautical\",\"development\",\"establishment\"],[\"ade\",\"and\",\"was\",\"involved\",\"in\",\"the\",\"design\",\"of\"],[\"a\",\"hovercraft\",\"he\",\"went\",\"to\",\"nasa\",\"on\",\"a\"],[\"training\",\"programmehe\",\"moved\",\"to\",\"indian\",\"space\",\"research\",\"and\"],[\"met\",\"vikram\",\"sarabhai\",\"there\",\"he\",\"also\",\"met\",\"many\"],[\"great\",\"minds\",\"who\",\"inspired\",\"himthe\",\"book\",\"also\",\"describes\"],[\"leadership\",\"and\",\"teamwork\",\"while\",\"making\",\"the\",\"projects\",\"it\"],[\"shows\",\"how\",\"a\",\"man\",\"becomes\",\"a\",\"leader\",\"whenever\"],[\"there\",\"is\",\"a\",\"failed\",\"or\",\"a\",\"successful\",\"project\"],[\"apj\",\"kalam\",\"which\",\"i\",\"find\",\"distracting\",\"from\",\"the\"],[\"story\",\"of\",\"his\",\"life\",\"some\",\"readers\",\"might\",\"find\"],[\"these\",\"detailed\",\"descriptions\",\"boring\",\"and\",\"unappealing\",\"this\",\"publication\"],[\"highlights\",\"the\",\"successful\",\"execution\",\"of\",\"agni\",\"and\",\"other\"],[\"projects\",\"the\",\"book\",\"tells\",\"the\",\"story\",\"of\",\"indias\"],[\"technological\",\"achievements\",\"at\",\"a\",\"time\",\"when\",\"few\",\"nations\"],[\"can\",\"boast\",\"of\",\"its\",\"technological\",\"breakthroughs\",\"it\",\"talks\"],[\"about\",\"some\",\"brilliant\",\"minds\",\"who\",\"worked\",\"behind\",\"the\"],[\"indian\",\"space\",\"research\",\"such\",\"as\",\"vikram\",\"sarabhai\",\"and\"],[\"vikram\",\"brahm\",\"prakash\",\"and\",\"their\",\"contribution\",\"towards\",\"isroas\"],[\"a\",\"reader\",\"this\",\"book\",\"initially\",\"is\",\"very\",\"interesting\"],[\"particularly\",\"the\",\"portions\",\"from\",\"his\",\"younger\",\"days\",\"to\"],[\"a\",\"college\",\"student\",\"like\",\"how\",\"his\",\"family\",\"encouraged\"],[\"him\",\"later\",\"the\",\"writing\",\"becomes\",\"a\",\"little\",\"monotonous\"],[\"as\",\"he\",\"presents\",\"minute\",\"illustrations\",\"of\",\"the\",\"projects\"],[\"he\",\"teaches\",\"the\",\"younger\",\"generation\",\"not\",\"to\",\"get\"],[\"demotivated\",\"and\",\"to\",\"live\",\"a\",\"positive\",\"life\",\"this\"],[\"book\",\"demonstrates\",\"how\",\"drapj\",\"abdul\",\"kalams\",\"simple\",\"lifestyle\"],[\"and\",\"positive\",\"thinking\",\"became\",\"an\",\"inspiration\",\"to\",\"the\"],[\"indian\",\"youth\",\"\",\"\",\"\",\"\",\"\",\"\"]],\"dx\":1,\"hovertemplate\":\"%{customdata} \\u003cbr\\u003e\\u003cb\\u003eScore:%{z:.3f}\\u003cextra\\u003e\\u003c\\u002fextra\\u003e\",\"x0\":0,\"y\":[\"wings of fire an autobiography of abdul kalam               \",\"is a book by drapj abdul kalam and                          \",\"arun tiwariapj abdul kalam former president of india        \",\"this story sheds light on the journey of                    \",\"a boy from rameswaram to become a famous                    \",\"scientistit reflects how simple living dedication strong wil\",\"and hard work led to success it also                        \",\"shows how cultural unity influences the lives of            \",\"individual individuals the story begins with kalam as       \",\"a boy in the village of rameswaram around                   \",\"1930 where he lived with his parents four                   \",\"brothers and one sister the author tells us                 \",\"in this book how the role of family                         \",\"friends and society contribute to an individuals lifekalam  \",\"describes his village where everybody lives in harmony      \",\"discrimination was never known at that time and             \",\"was unknown today a passage that shows the                  \",\"closeness they had the priest of the temple                 \",\"of rameswaram pakshi lakshmana sastry was a very            \",\"close friend of one of the most vivid                       \",\"memories of my early childhood is the conversation          \",\"between two males each wearing his traditional clothes      \",\"about religious matters when he was very young              \",\"kalam wanted to join the indian airforce but                \",\"he was not able to clear the interview                      \",\"far from being demotivated he focused more on               \",\"studies started his career in aeronautical development estab\",\"ade and was involved in the design of                       \",\"a hovercraft he went to nasa on a                           \",\"training programmehe moved to indian space research and     \",\"met vikram sarabhai there he also met many                  \",\"great minds who inspired himthe book also describes         \",\"leadership and teamwork while making the projects it        \",\"shows how a man becomes a leader whenever                   \",\"there is a failed or a successful project                   \",\"apj kalam which i find distracting from the                 \",\"story of his life some readers might find                   \",\"these detailed descriptions boring and unappealing this publ\",\"highlights the successful execution of agni and other       \",\"projects the book tells the story of indias                 \",\"technological achievements at a time when few nations       \",\"can boast of its technological breakthroughs it talks       \",\"about some brilliant minds who worked behind the            \",\"indian space research such as vikram sarabhai and           \",\"vikram brahm prakash and their contribution towards isroas  \",\"a reader this book initially is very interesting            \",\"particularly the portions from his younger days to          \",\"a college student like how his family encouraged            \",\"him later the writing becomes a little monotonous           \",\"as he presents minute illustrations of the projects         \",\"he teaches the younger generation not to get                \",\"demotivated and to live a positive life this                \",\"book demonstrates how drapj abdul kalams simple lifestyle   \",\"and positive thinking became an inspiration to the          \",\"indian youth                                                \"],\"z\":[[0.7416010804044642,0.7894459171718942,0.8156174853653324,0.8353972734137601,0.8385701670221231,0.7702125090847661,0.6753078261802137,0.6447785161550377],[0.4847917730437365,0.20772090835996812,0.045753728411462705,0.008923807505128927,0.03138502082357533,0.14060724239053055,0.2955790378772567,0.3903961500172519],[0.38365827914989464,0.22758924188815494,0.18264625535760257,0.30739676381841907,0.46653923008747783,0.6834520246951195,0.8104084778617708,0.8214359646338928],[0.8197214176119001,0.8104632379247099,0.8178008358899229,0.8453273704011813,0.8455523155971566,0.8151697135160338,0.8005546883187891,0.7684068614174928],[0.5759946495710031,0.3054351064106508,0.28122954292245406,0.49712839951245724,0.6924909371095942,0.7403422472822654,0.5808849279432157,0.2600043783205134],[0.08137793259501101,0.16091811349390361,0.3867623004456763,0.6022583400253416,0.7422150355275097,0.790875225637654,0.8303273227678154,0.8599165033950573],[0.8474919079942962,0.8263248188432006,0.8318738599113662,0.8386418146450951,0.8330182853654781,0.8219708998027149,0.8187786347381969,0.8058578990314633],[0.7984653545435406,0.780642232327208,0.7221183132322422,0.5582626301967214,0.26796873876713806,0.11228331429584415,0.180587379810234,0.2637559351482152],[0.17362889932063827,0.13463439803809138,0.2812920734993348,0.48874939261229255,0.6671377807567549,0.7825061424897082,0.8085595699645899,0.7880397321733001],[0.7175093021689359,0.5104277176068538,0.2698971828374851,0.23180469376048252,0.3968708504060666,0.5885736157188579,0.5459444462266845,0.3535158776043181],[0.2617993893637664,0.22069945102670357,0.31031787360151675,0.5358117033290919,0.7302338035107087,0.7547332249386822,0.5837469677898179,0.3995588532231084],[0.47314681907685574,0.653761096705102,0.7056939796501996,0.5491513546205926,0.288798283837422,0.28602963487136873,0.5214294409813995,0.5410287719448987],[0.31567778253832823,0.2656703520537261,0.3254315819435827,0.239826542591045,0.25882925623390185,0.4881708105529874,0.6668421537089424,0.5740048131246871],[0.39033837769917634,0.42743695068884513,0.5974799657538514,0.7594265273968727,0.819393872295556,0.7569293349753589,0.551202700444125,0.2529337400199223],[0.14264291149458766,0.2812462387424617,0.4736434063754902,0.46963438582997846,0.24419755263487702,0.13969844322383262,0.24146544347650445,0.3075979072225913],[0.2684042563026011,0.23239647693534687,0.12597216245280152,0.040854435542452036,0.07955833968424462,0.22092983563622567,0.29431195491281004,0.17441761440751868],[0.06343199829687539,0.034723950290728604,0.028122990510597568,0.06902316114553132,0.2509712588377879,0.5531363875467266,0.7478266405769607,0.7929848938238049],[0.8066303416085956,0.838736901866494,0.8211734978515184,0.6427096698035143,0.39373291810595656,0.27365032535497524,0.15519484054269442,0.05136178132037565],[0.03217850609480034,0.06262050415388601,0.18334035475928379,0.4362470347670918,0.6786149199218137,0.7914794483126437,0.7960591471060944,0.7847385823106998],[0.8049018521427069,0.799203585264997,0.6218581291149823,0.34213868987598894,0.2973292399157831,0.46634796538391093,0.6437507590002984,0.7855851570410062],[0.8527668611093551,0.8394057540407547,0.7875264053824431,0.7705198820811547,0.7734411757785464,0.6037261281213989,0.26521491484824444,0.05306838966152947],[0.004913469115838728,0.0011452438247842446,0.0011424187999288524,0.002147525103698384,0.008180317499737796,0.02381601258711685,0.032790418557165905,0.01904357308093736],[0.00750789068360551,0.03206478695076302,0.16639170540574777,0.42806176081843955,0.6501634562469496,0.7251577736553376,0.7307185783987359,0.7616258801856164],[0.7920572628127807,0.8068529551759168,0.8192559064961769,0.8194607744009751,0.8113745136065702,0.7737741819121577,0.7619104019087958,0.8117388275397804],[0.8287860280932116,0.7793577430575765,0.7473413277961656,0.785404961812998,0.8211906113324184,0.8217537509795465,0.8215913371388011,0.822764022148835],[0.841353832197816,0.8462150974647945,0.833866400045617,0.8321808981526214,0.8195253624917476,0.8159355499556801,0.8409495864499696,0.8490996136136291],[0.8412797752182369,0.8497318282335957,0.8451307812117483,0.82736959797219,0.8252219334106885,0.829019159719701,0.8501227233978317,0.8694254004968291],[0.869069562968519,0.8434284615638676,0.805618599645012,0.8029009873135741,0.8144067034414931,0.7809398941178152,0.7539183358520604,0.7754031123971237],[0.7618348870071004,0.7468682847004924,0.7847862374611876,0.8127723478179741,0.8210415291217864,0.8202331022852052,0.8184268679423932,0.7581973717904321],[0.548296852070802,0.2609665167249438,0.20132975940003897,0.384041737700866,0.5860252854279597,0.7355243501663353,0.7146011503667284,0.46899551194356426],[0.2678907906963633,0.33189169746265496,0.4102632712772447,0.2829739388678373,0.1926128124549441,0.26429724646698144,0.45153866622340166,0.4708518228613649],[0.25659688487287285,0.17565183271625148,0.23501822399601902,0.17307211728661068,0.0679593843280801,0.06849740991432812,0.22345362869421534,0.49969642822470295],[0.7274462550832179,0.8140908702889365,0.8249054632756987,0.846762043834099,0.863524505503227,0.8383051085595898,0.7757929281021545,0.7382395444512062],[0.7592974504761321,0.768194803778852,0.744993514126811,0.773674701901986,0.8324065858466739,0.8270861883770722,0.7885755814370456,0.8152611952643121],[0.838510561693233,0.7758332518740199,0.5633873241098665,0.2679929529025775,0.17689871416650482,0.24849716344953346,0.2844723976146844,0.2938082366909658],[0.22965253409207428,0.283756185692673,0.5211274682320087,0.7480385207425788,0.8383658590883306,0.8437744145462349,0.8323180202450258,0.7983607324105805],[0.7526949166266849,0.7277644250943809,0.7426957611224334,0.7658004609638895,0.7428304207702531,0.5611413982022702,0.24406597011839035,0.05070069245120177],[0.022836446753371112,0.10737913764937324,0.333695887745013,0.6141110373795599,0.7295584416861919,0.5574795020439526,0.23756863129663414,0.07674246570087688],[0.16344685686940194,0.3828669096805237,0.5797021130485835,0.7345108402468041,0.8121324975228492,0.8193297604042522,0.8198751691767188,0.81875725710823],[0.8186219771105319,0.7615184098624196,0.5523333089865733,0.24385805677690825,0.0862306236399579,0.11445845128701408,0.18053162584512406,0.25158451342399674],[0.45123834411551844,0.6804840600701206,0.7916882403048915,0.7558408318398337,0.5482950685698083,0.26133808209802833,0.21086643830891544,0.4364267617668674],[0.680141478087934,0.7707877900895281,0.6057042093762797,0.26416228745293774,0.053077832426489786,0.007816520706183612,0.007925269074760962,0.03373609067406904],[0.16087698396574623,0.40355004327317784,0.6339794591203428,0.7872948119822502,0.8410485654370938,0.7986016036032422,0.6021169021409671,0.2858753395620382],[0.156798970191542,0.3162539263438761,0.549202206389831,0.6564250249422995,0.7469164344809283,0.812470895825473,0.7728919221735174,0.5466965723911918],[0.25137897113230845,0.2076051249097425,0.43173215691122874,0.658579426552521,0.772226066093233,0.7878575161642976,0.6075049845605445,0.2762214427552301],[0.11766503415363748,0.2569389410046079,0.5543773233703522,0.7195818758393654,0.7387051508636371,0.7745065060492283,0.7997329115102618,0.8165436327549997],[0.8448425832260033,0.8436777402599946,0.823568517243326,0.8187062662819495,0.8030724055562946,0.7943845716842599,0.8137241248070461,0.822408168421019],[0.8004196226208389,0.8021334534990465,0.840675293469333,0.8627829594280101,0.8444354709160167,0.8054517793956902,0.7925235491512008,0.8156579922540385],[0.8387403260349653,0.8416974208420214,0.8336900391468547,0.8242883383628392,0.8061025063352458,0.6259034248405855,0.3010392328859891,0.17678682005831853],[0.2070522673951626,0.126423194200711,0.059327061882522916,0.16915660229098645,0.4291486009711065,0.64539586579818,0.6662505629311153,0.4702620164008212],[0.19370503728490246,0.053780843440884143,0.0684089876868066,0.2253826848184013,0.5177473754996068,0.7446478557470458,0.8064452743498247,0.8075784612441101],[0.7795965564417766,0.5833819174265769,0.2515871421101615,0.0619355944569721,0.06347157572677864,0.2203368258672293,0.5012014007358758,0.7139892570887175],[0.7578208370775137,0.698112713027851,0.5417078312756696,0.26189507822905417,0.13459005410717464,0.25476830392590755,0.34276492786607815,0.2036064573835275],[0.10081571155034194,0.2281132719887447,0.5226134818859596,0.7570624869742937,0.7859137378864811,0.5805724261541085,0.2640158144578826,0.10123569476432985],[0.11003021777395587,0.13856976272031346,0.07953948958980604,0.0174972305932318,0.0014298496339191177,4.308001503493374e-05,0.0,0.0]],\"zmax\":1,\"zmin\":0,\"type\":\"heatmap\"}],                        {\"template\":{\"data\":{\"histogram2dcontour\":[{\"type\":\"histogram2dcontour\",\"colorbar\":{\"outlinewidth\":0,\"ticks\":\"\"},\"colorscale\":[[0.0,\"#0d0887\"],[0.1111111111111111,\"#46039f\"],[0.2222222222222222,\"#7201a8\"],[0.3333333333333333,\"#9c179e\"],[0.4444444444444444,\"#bd3786\"],[0.5555555555555556,\"#d8576b\"],[0.6666666666666666,\"#ed7953\"],[0.7777777777777778,\"#fb9f3a\"],[0.8888888888888888,\"#fdca26\"],[1.0,\"#f0f921\"]]}],\"choropleth\":[{\"type\":\"choropleth\",\"colorbar\":{\"outlinewidth\":0,\"ticks\":\"\"}}],\"histogram2d\":[{\"type\":\"histogram2d\",\"colorbar\":{\"outlinewidth\":0,\"ticks\":\"\"},\"colorscale\":[[0.0,\"#0d0887\"],[0.1111111111111111,\"#46039f\"],[0.2222222222222222,\"#7201a8\"],[0.3333333333333333,\"#9c179e\"],[0.4444444444444444,\"#bd3786\"],[0.5555555555555556,\"#d8576b\"],[0.6666666666666666,\"#ed7953\"],[0.7777777777777778,\"#fb9f3a\"],[0.8888888888888888,\"#fdca26\"],[1.0,\"#f0f921\"]]}],\"heatmap\":[{\"type\":\"heatmap\",\"colorbar\":{\"outlinewidth\":0,\"ticks\":\"\"},\"colorscale\":[[0.0,\"#0d0887\"],[0.1111111111111111,\"#46039f\"],[0.2222222222222222,\"#7201a8\"],[0.3333333333333333,\"#9c179e\"],[0.4444444444444444,\"#bd3786\"],[0.5555555555555556,\"#d8576b\"],[0.6666666666666666,\"#ed7953\"],[0.7777777777777778,\"#fb9f3a\"],[0.8888888888888888,\"#fdca26\"],[1.0,\"#f0f921\"]]}],\"heatmapgl\":[{\"type\":\"heatmapgl\",\"colorbar\":{\"outlinewidth\":0,\"ticks\":\"\"},\"colorscale\":[[0.0,\"#0d0887\"],[0.1111111111111111,\"#46039f\"],[0.2222222222222222,\"#7201a8\"],[0.3333333333333333,\"#9c179e\"],[0.4444444444444444,\"#bd3786\"],[0.5555555555555556,\"#d8576b\"],[0.6666666666666666,\"#ed7953\"],[0.7777777777777778,\"#fb9f3a\"],[0.8888888888888888,\"#fdca26\"],[1.0,\"#f0f921\"]]}],\"contourcarpet\":[{\"type\":\"contourcarpet\",\"colorbar\":{\"outlinewidth\":0,\"ticks\":\"\"}}],\"contour\":[{\"type\":\"contour\",\"colorbar\":{\"outlinewidth\":0,\"ticks\":\"\"},\"colorscale\":[[0.0,\"#0d0887\"],[0.1111111111111111,\"#46039f\"],[0.2222222222222222,\"#7201a8\"],[0.3333333333333333,\"#9c179e\"],[0.4444444444444444,\"#bd3786\"],[0.5555555555555556,\"#d8576b\"],[0.6666666666666666,\"#ed7953\"],[0.7777777777777778,\"#fb9f3a\"],[0.8888888888888888,\"#fdca26\"],[1.0,\"#f0f921\"]]}],\"surface\":[{\"type\":\"surface\",\"colorbar\":{\"outlinewidth\":0,\"ticks\":\"\"},\"colorscale\":[[0.0,\"#0d0887\"],[0.1111111111111111,\"#46039f\"],[0.2222222222222222,\"#7201a8\"],[0.3333333333333333,\"#9c179e\"],[0.4444444444444444,\"#bd3786\"],[0.5555555555555556,\"#d8576b\"],[0.6666666666666666,\"#ed7953\"],[0.7777777777777778,\"#fb9f3a\"],[0.8888888888888888,\"#fdca26\"],[1.0,\"#f0f921\"]]}],\"mesh3d\":[{\"type\":\"mesh3d\",\"colorbar\":{\"outlinewidth\":0,\"ticks\":\"\"}}],\"scatter\":[{\"fillpattern\":{\"fillmode\":\"overlay\",\"size\":10,\"solidity\":0.2},\"type\":\"scatter\"}],\"parcoords\":[{\"type\":\"parcoords\",\"line\":{\"colorbar\":{\"outlinewidth\":0,\"ticks\":\"\"}}}],\"scatterpolargl\":[{\"type\":\"scatterpolargl\",\"marker\":{\"colorbar\":{\"outlinewidth\":0,\"ticks\":\"\"}}}],\"bar\":[{\"error_x\":{\"color\":\"#2a3f5f\"},\"error_y\":{\"color\":\"#2a3f5f\"},\"marker\":{\"line\":{\"color\":\"#E5ECF6\",\"width\":0.5},\"pattern\":{\"fillmode\":\"overlay\",\"size\":10,\"solidity\":0.2}},\"type\":\"bar\"}],\"scattergeo\":[{\"type\":\"scattergeo\",\"marker\":{\"colorbar\":{\"outlinewidth\":0,\"ticks\":\"\"}}}],\"scatterpolar\":[{\"type\":\"scatterpolar\",\"marker\":{\"colorbar\":{\"outlinewidth\":0,\"ticks\":\"\"}}}],\"histogram\":[{\"marker\":{\"pattern\":{\"fillmode\":\"overlay\",\"size\":10,\"solidity\":0.2}},\"type\":\"histogram\"}],\"scattergl\":[{\"type\":\"scattergl\",\"marker\":{\"colorbar\":{\"outlinewidth\":0,\"ticks\":\"\"}}}],\"scatter3d\":[{\"type\":\"scatter3d\",\"line\":{\"colorbar\":{\"outlinewidth\":0,\"ticks\":\"\"}},\"marker\":{\"colorbar\":{\"outlinewidth\":0,\"ticks\":\"\"}}}],\"scattermapbox\":[{\"type\":\"scattermapbox\",\"marker\":{\"colorbar\":{\"outlinewidth\":0,\"ticks\":\"\"}}}],\"scatterternary\":[{\"type\":\"scatterternary\",\"marker\":{\"colorbar\":{\"outlinewidth\":0,\"ticks\":\"\"}}}],\"scattercarpet\":[{\"type\":\"scattercarpet\",\"marker\":{\"colorbar\":{\"outlinewidth\":0,\"ticks\":\"\"}}}],\"carpet\":[{\"aaxis\":{\"endlinecolor\":\"#2a3f5f\",\"gridcolor\":\"white\",\"linecolor\":\"white\",\"minorgridcolor\":\"white\",\"startlinecolor\":\"#2a3f5f\"},\"baxis\":{\"endlinecolor\":\"#2a3f5f\",\"gridcolor\":\"white\",\"linecolor\":\"white\",\"minorgridcolor\":\"white\",\"startlinecolor\":\"#2a3f5f\"},\"type\":\"carpet\"}],\"table\":[{\"cells\":{\"fill\":{\"color\":\"#EBF0F8\"},\"line\":{\"color\":\"white\"}},\"header\":{\"fill\":{\"color\":\"#C8D4E3\"},\"line\":{\"color\":\"white\"}},\"type\":\"table\"}],\"barpolar\":[{\"marker\":{\"line\":{\"color\":\"#E5ECF6\",\"width\":0.5},\"pattern\":{\"fillmode\":\"overlay\",\"size\":10,\"solidity\":0.2}},\"type\":\"barpolar\"}],\"pie\":[{\"automargin\":true,\"type\":\"pie\"}]},\"layout\":{\"autotypenumbers\":\"strict\",\"colorway\":[\"#636efa\",\"#EF553B\",\"#00cc96\",\"#ab63fa\",\"#FFA15A\",\"#19d3f3\",\"#FF6692\",\"#B6E880\",\"#FF97FF\",\"#FECB52\"],\"font\":{\"color\":\"#2a3f5f\"},\"hovermode\":\"closest\",\"hoverlabel\":{\"align\":\"left\"},\"paper_bgcolor\":\"white\",\"plot_bgcolor\":\"#E5ECF6\",\"polar\":{\"bgcolor\":\"#E5ECF6\",\"angularaxis\":{\"gridcolor\":\"white\",\"linecolor\":\"white\",\"ticks\":\"\"},\"radialaxis\":{\"gridcolor\":\"white\",\"linecolor\":\"white\",\"ticks\":\"\"}},\"ternary\":{\"bgcolor\":\"#E5ECF6\",\"aaxis\":{\"gridcolor\":\"white\",\"linecolor\":\"white\",\"ticks\":\"\"},\"baxis\":{\"gridcolor\":\"white\",\"linecolor\":\"white\",\"ticks\":\"\"},\"caxis\":{\"gridcolor\":\"white\",\"linecolor\":\"white\",\"ticks\":\"\"}},\"coloraxis\":{\"colorbar\":{\"outlinewidth\":0,\"ticks\":\"\"}},\"colorscale\":{\"sequential\":[[0.0,\"#0d0887\"],[0.1111111111111111,\"#46039f\"],[0.2222222222222222,\"#7201a8\"],[0.3333333333333333,\"#9c179e\"],[0.4444444444444444,\"#bd3786\"],[0.5555555555555556,\"#d8576b\"],[0.6666666666666666,\"#ed7953\"],[0.7777777777777778,\"#fb9f3a\"],[0.8888888888888888,\"#fdca26\"],[1.0,\"#f0f921\"]],\"sequentialminus\":[[0.0,\"#0d0887\"],[0.1111111111111111,\"#46039f\"],[0.2222222222222222,\"#7201a8\"],[0.3333333333333333,\"#9c179e\"],[0.4444444444444444,\"#bd3786\"],[0.5555555555555556,\"#d8576b\"],[0.6666666666666666,\"#ed7953\"],[0.7777777777777778,\"#fb9f3a\"],[0.8888888888888888,\"#fdca26\"],[1.0,\"#f0f921\"]],\"diverging\":[[0,\"#8e0152\"],[0.1,\"#c51b7d\"],[0.2,\"#de77ae\"],[0.3,\"#f1b6da\"],[0.4,\"#fde0ef\"],[0.5,\"#f7f7f7\"],[0.6,\"#e6f5d0\"],[0.7,\"#b8e186\"],[0.8,\"#7fbc41\"],[0.9,\"#4d9221\"],[1,\"#276419\"]]},\"xaxis\":{\"gridcolor\":\"white\",\"linecolor\":\"white\",\"ticks\":\"\",\"title\":{\"standoff\":15},\"zerolinecolor\":\"white\",\"automargin\":true,\"zerolinewidth\":2},\"yaxis\":{\"gridcolor\":\"white\",\"linecolor\":\"white\",\"ticks\":\"\",\"title\":{\"standoff\":15},\"zerolinecolor\":\"white\",\"automargin\":true,\"zerolinewidth\":2},\"scene\":{\"xaxis\":{\"backgroundcolor\":\"#E5ECF6\",\"gridcolor\":\"white\",\"linecolor\":\"white\",\"showbackground\":true,\"ticks\":\"\",\"zerolinecolor\":\"white\",\"gridwidth\":2},\"yaxis\":{\"backgroundcolor\":\"#E5ECF6\",\"gridcolor\":\"white\",\"linecolor\":\"white\",\"showbackground\":true,\"ticks\":\"\",\"zerolinecolor\":\"white\",\"gridwidth\":2},\"zaxis\":{\"backgroundcolor\":\"#E5ECF6\",\"gridcolor\":\"white\",\"linecolor\":\"white\",\"showbackground\":true,\"ticks\":\"\",\"zerolinecolor\":\"white\",\"gridwidth\":2}},\"shapedefaults\":{\"line\":{\"color\":\"#2a3f5f\"}},\"annotationdefaults\":{\"arrowcolor\":\"#2a3f5f\",\"arrowhead\":0,\"arrowwidth\":1},\"geo\":{\"bgcolor\":\"white\",\"landcolor\":\"#E5ECF6\",\"subunitcolor\":\"white\",\"showland\":true,\"showlakes\":true,\"lakecolor\":\"white\"},\"title\":{\"x\":0.05},\"mapbox\":{\"style\":\"light\"}}},\"font\":{\"family\":\"Courier New\"},\"height\":1540,\"width\":1000,\"yaxis\":{\"autorange\":\"reversed\"}},                        {\"responsive\": true}                    ).then(function(){\n",
              "                            \n",
              "var gd = document.getElementById('4c90eb4e-aae6-4963-b387-be9ade94b284');\n",
              "var x = new MutationObserver(function (mutations, observer) {{\n",
              "        var display = window.getComputedStyle(gd).display;\n",
              "        if (!display || display === 'none') {{\n",
              "            console.log([gd, 'removed!']);\n",
              "            Plotly.purge(gd);\n",
              "            observer.disconnect();\n",
              "        }}\n",
              "}});\n",
              "\n",
              "// Listen for the removal of the full notebook cells\n",
              "var notebookContainer = gd.closest('#notebook-container');\n",
              "if (notebookContainer) {{\n",
              "    x.observe(notebookContainer, {childList: true});\n",
              "}}\n",
              "\n",
              "// Listen for the clearing of the current output cell\n",
              "var outputEl = gd.closest('.output');\n",
              "if (outputEl) {{\n",
              "    x.observe(outputEl, {childList: true});\n",
              "}}\n",
              "\n",
              "                        })                };                            </script>        </div>\n",
              "</body>\n",
              "</html>"
            ]
          },
          "metadata": {}
        }
      ]
    }
  ]
}